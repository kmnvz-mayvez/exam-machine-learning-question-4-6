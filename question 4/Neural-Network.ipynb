{
 "cells": [
  {
   "cell_type": "code",
   "execution_count": 2101,
   "metadata": {},
   "outputs": [],
   "source": [
    "import pandas as pd\n",
    "import numpy as np"
   ]
  },
  {
   "cell_type": "code",
   "execution_count": 2102,
   "metadata": {},
   "outputs": [
    {
     "data": {
      "text/html": [
       "<div>\n",
       "<style scoped>\n",
       "    .dataframe tbody tr th:only-of-type {\n",
       "        vertical-align: middle;\n",
       "    }\n",
       "\n",
       "    .dataframe tbody tr th {\n",
       "        vertical-align: top;\n",
       "    }\n",
       "\n",
       "    .dataframe thead th {\n",
       "        text-align: right;\n",
       "    }\n",
       "</style>\n",
       "<table border=\"1\" class=\"dataframe\">\n",
       "  <thead>\n",
       "    <tr style=\"text-align: right;\">\n",
       "      <th></th>\n",
       "      <th>gmat</th>\n",
       "      <th>gpa</th>\n",
       "      <th>work_experience</th>\n",
       "      <th>admitted</th>\n",
       "    </tr>\n",
       "  </thead>\n",
       "  <tbody>\n",
       "    <tr>\n",
       "      <th>0</th>\n",
       "      <td>780</td>\n",
       "      <td>4.0</td>\n",
       "      <td>3</td>\n",
       "      <td>1</td>\n",
       "    </tr>\n",
       "    <tr>\n",
       "      <th>1</th>\n",
       "      <td>750</td>\n",
       "      <td>3.9</td>\n",
       "      <td>4</td>\n",
       "      <td>1</td>\n",
       "    </tr>\n",
       "    <tr>\n",
       "      <th>2</th>\n",
       "      <td>690</td>\n",
       "      <td>3.3</td>\n",
       "      <td>3</td>\n",
       "      <td>0</td>\n",
       "    </tr>\n",
       "    <tr>\n",
       "      <th>3</th>\n",
       "      <td>710</td>\n",
       "      <td>3.7</td>\n",
       "      <td>5</td>\n",
       "      <td>1</td>\n",
       "    </tr>\n",
       "    <tr>\n",
       "      <th>4</th>\n",
       "      <td>680</td>\n",
       "      <td>3.9</td>\n",
       "      <td>4</td>\n",
       "      <td>0</td>\n",
       "    </tr>\n",
       "  </tbody>\n",
       "</table>\n",
       "</div>"
      ],
      "text/plain": [
       "   gmat  gpa  work_experience  admitted\n",
       "0   780  4.0                3         1\n",
       "1   750  3.9                4         1\n",
       "2   690  3.3                3         0\n",
       "3   710  3.7                5         1\n",
       "4   680  3.9                4         0"
      ]
     },
     "execution_count": 2102,
     "metadata": {},
     "output_type": "execute_result"
    }
   ],
   "source": [
    "datatrain = pd.read_csv('train.csv')\n",
    "datatrain.head(5)"
   ]
  },
  {
   "cell_type": "code",
   "execution_count": 2103,
   "metadata": {},
   "outputs": [
    {
     "data": {
      "text/plain": [
       "array([[780. ,   4. ,   3. ,   1. ],\n",
       "       [750. ,   3.9,   4. ,   1. ],\n",
       "       [690. ,   3.3,   3. ,   0. ],\n",
       "       [710. ,   3.7,   5. ,   1. ],\n",
       "       [680. ,   3.9,   4. ,   0. ]])"
      ]
     },
     "execution_count": 2103,
     "metadata": {},
     "output_type": "execute_result"
    }
   ],
   "source": [
    "# change data to array\n",
    "X = datatrain[['gmat', 'gpa', 'work_experience','admitted']]\n",
    "X = np.array(X)\n",
    "\n",
    "X[:5]"
   ]
  },
  {
   "cell_type": "code",
   "execution_count": 2104,
   "metadata": {},
   "outputs": [],
   "source": [
    "class NeuralNetwork:\n",
    "    def __init__(self, input_size, hidden_size, output_size):\n",
    "        # Inisialisasi bobot dengan nilai acak\n",
    "        self.weights_input_hidden = np.random.randn(input_size, hidden_size)\n",
    "        self.weights_hidden_output = np.random.randn(hidden_size, output_size)\n",
    "\n",
    "        # Inisialisasi bias dengan nilai acak\n",
    "        self.bias_hidden = np.zeros((1, hidden_size))\n",
    "        self.bias_output = np.zeros((1, output_size))\n",
    "\n",
    "    def sigmoid(self, x):\n",
    "        # Fungsi aktivasi sigmoid\n",
    "        return 1 / (1 + np.exp(-x))\n",
    "\n",
    "    def sigmoid_derivative(self, x):\n",
    "        # Turunan dari fungsi sigmoid\n",
    "        return x * (1 - x)\n",
    "\n",
    "    def forward(self, inputs):\n",
    "        # Proses feedforward\n",
    "        self.hidden_sum = np.dot(inputs, self.weights_input_hidden) + self.bias_hidden\n",
    "        self.hidden_output = self.sigmoid(self.hidden_sum)\n",
    "\n",
    "        self.output_sum = np.dot(self.hidden_output, self.weights_hidden_output) + self.bias_output\n",
    "        self.predicted_output = self.sigmoid(self.output_sum)\n",
    "\n",
    "        return self.predicted_output\n",
    "\n",
    "    def backward(self, inputs, target, learning_rate):\n",
    "        # Menghitung error\n",
    "        output_error = target - self.predicted_output\n",
    "        output_delta = output_error * self.sigmoid_derivative(self.predicted_output)\n",
    "\n",
    "        # Menghitung error di lapisan tersembunyi\n",
    "        hidden_error = output_delta.dot(self.weights_hidden_output.T)\n",
    "        hidden_delta = hidden_error * self.sigmoid_derivative(self.hidden_output)\n",
    "\n",
    "        # Memperbarui bobot dan bias\n",
    "        self.weights_hidden_output += self.hidden_output.T.dot(output_delta) * learning_rate\n",
    "        self.bias_output += np.sum(output_delta, axis=0, keepdims=True) * learning_rate\n",
    "\n",
    "        self.weights_input_hidden += inputs.T.dot(hidden_delta) * learning_rate\n",
    "        self.bias_hidden += np.sum(hidden_delta, axis=0, keepdims=True) * learning_rate\n",
    "\n",
    "    def train(self, inputs, targets, epochs, learning_rate):\n",
    "        for epoch in range(epochs):\n",
    "            for i in range(len(inputs)):\n",
    "                input_data = inputs[i:i+1]\n",
    "                target = targets[i:i+1]\n",
    "\n",
    "                # Proses feedforward dan backpropagation\n",
    "                self.forward(input_data)\n",
    "                self.backward(input_data, target, learning_rate)\n",
    "\n",
    "                # Menghitung total error pada setiap epoch\n",
    "                total_error = np.mean(np.abs(target - self.predicted_output))\n",
    "            \n",
    "            if epoch % 100 == 0:\n",
    "                print(f'Epoch {epoch}, Error: {total_error}')"
   ]
  },
  {
   "cell_type": "code",
   "execution_count": 2105,
   "metadata": {},
   "outputs": [
    {
     "name": "stdout",
     "output_type": "stream",
     "text": [
      "Epoch 0, Error: 0.7822065672833753\n",
      "Epoch 100, Error: 0.1785685967847661\n",
      "Epoch 200, Error: 0.1497012865512336\n",
      "Epoch 300, Error: 0.13398548023250645\n",
      "Epoch 400, Error: 0.12494476279062339\n",
      "Epoch 500, Error: 0.11985380772699461\n",
      "Epoch 600, Error: 0.11637411452002078\n",
      "Epoch 700, Error: 0.11379151587615877\n",
      "Epoch 800, Error: 0.1118410900107365\n",
      "Epoch 900, Error: 0.11037303653319797\n"
     ]
    }
   ],
   "source": [
    "# Normalisasi data (misalnya, dengan z-score normalization)\n",
    "mean = np.mean(X, axis=0)\n",
    "std = np.std(X, axis=0)\n",
    "normalized_data = (X - mean) / std\n",
    "\n",
    "# Pisahkan fitur dan target\n",
    "inputs = normalized_data[:, :-1]\n",
    "targets = normalized_data[:, -1:]\n",
    "\n",
    "# Inisialisasi dan latih jaringan saraf\n",
    "input_size = inputs.shape[1]\n",
    "hidden_size = 3\n",
    "output_size = 1\n",
    "\n",
    "nn = NeuralNetwork(input_size, hidden_size, output_size)\n",
    "nn.train(inputs, targets, epochs=1000, learning_rate=0.1)"
   ]
  },
  {
   "cell_type": "code",
   "execution_count": 2106,
   "metadata": {},
   "outputs": [
    {
     "name": "stdout",
     "output_type": "stream",
     "text": [
      "Predicted Admission for New Data:\n",
      "Predict admitted 1: [0]\n",
      "Predict admitted 2: [1]\n",
      "Predict admitted 3: [1]\n",
      "Predict admitted 4: [0]\n",
      "Predict admitted 5: [1]\n"
     ]
    }
   ],
   "source": [
    "# Data baru\n",
    "new_data = np.array([\n",
    "    [590, 2, 3],\n",
    "    [740, 3.7, 4],\n",
    "    [680, 3.3, 6],\n",
    "    [610, 2.3, 1],\n",
    "    [710, 3, 5]\n",
    "])\n",
    "\n",
    "threshold = 0.5\n",
    "\n",
    "# Normalisasi data baru\n",
    "normalized_new_data = (new_data - mean[:-1]) / std[:-1]\n",
    "predicted_outputs_new = nn.forward(normalized_new_data)\n",
    "predicted_classes_new = (predicted_outputs_new > threshold).astype(int)\n",
    "\n",
    "# Menampilkan hasil prediksi\n",
    "print(\"Predicted Admission for New Data:\")\n",
    "for i in range(len(new_data)):\n",
    "    print(f\"Predict admitted {i + 1}: {predicted_classes_new[i]}\")"
   ]
  },
  {
   "cell_type": "code",
   "execution_count": 2107,
   "metadata": {},
   "outputs": [
    {
     "name": "stdout",
     "output_type": "stream",
     "text": [
      "    gmat  gpa  work_experience  admitted_prediction\n",
      "0  590.0  2.0              3.0                  0.0\n",
      "1  740.0  3.7              4.0                  1.0\n",
      "2  680.0  3.3              6.0                  1.0\n",
      "3  610.0  2.3              1.0                  0.0\n",
      "4  710.0  3.0              5.0                  1.0\n"
     ]
    }
   ],
   "source": [
    "new_data_with_predictions = np.hstack((new_data, predicted_classes_new.reshape(-1, 1)))\n",
    "\n",
    "# Membuat DataFrame dari data baru dan hasil prediksi\n",
    "columns = [\"gmat\", \"gpa\", \"work_experience\", \"admitted_prediction\"]\n",
    "data_test = pd.DataFrame(new_data_with_predictions, columns=columns)\n",
    "\n",
    "# Menyimpan DataFrame ke dalam file CSV\n",
    "data_test.to_csv(\"test.csv\", index=False)\n",
    "print(data_test)"
   ]
  },
  {
   "cell_type": "code",
   "execution_count": 2108,
   "metadata": {},
   "outputs": [
    {
     "name": "stdout",
     "output_type": "stream",
     "text": [
      "Confusion Matrix:\n",
      "[[21  1]\n",
      " [ 1 17]]\n",
      "Accuracy: 0.95\n"
     ]
    }
   ],
   "source": [
    "from sklearn.metrics import confusion_matrix\n",
    "\n",
    "# Run the trained neural network on the normalized data\n",
    "predictions = np.round(nn.forward(inputs))\n",
    "\n",
    "# Convert targets to binary values (0 or 1)\n",
    "binary_targets = (targets > 0.5).astype(int)\n",
    "\n",
    "# Create confusion matrix\n",
    "conf_matrix = confusion_matrix(binary_targets, predictions)\n",
    "\n",
    "# Calculate accuracy\n",
    "accuracy = np.sum(np.diag(conf_matrix)) / np.sum(conf_matrix)\n",
    "\n",
    "print(\"Confusion Matrix:\")\n",
    "print(conf_matrix)\n",
    "print(f\"Accuracy: {accuracy}\")"
   ]
  },
  {
   "cell_type": "code",
   "execution_count": 2109,
   "metadata": {},
   "outputs": [
    {
     "data": {
      "image/png": "[encoded data removed]",
      "text/plain": [
       "<Figure size 800x600 with 2 Axes>"
      ]
     },
     "metadata": {},
     "output_type": "display_data"
    }
   ],
   "source": [
    "import seaborn as sns\n",
    "import matplotlib.pyplot as plt\n",
    "\n",
    "# Visualize confusion matrix\n",
    "plt.figure(figsize=(8, 6))\n",
    "sns.heatmap(conf_matrix, annot=True, fmt=\"d\", cmap=\"Blues\", linewidths=.5, cbar_kws={\"shrink\": 0.8}, \n",
    "            xticklabels=['Predicted 0', 'Predicted 1'], yticklabels=['Actual 0', 'Actual 1'])\n",
    "plt.xlabel('Predicted Label')\n",
    "plt.ylabel('True Label')\n",
    "plt.title('Confusion Matrix')\n",
    "plt.show()"
   ]
  }
 ],
 "metadata": {
  "kernelspec": {
   "display_name": "jcopml",
   "language": "python",
   "name": "python3"
  },
  "language_info": {
   "codemirror_mode": {
    "name": "ipython",
    "version": 3
   },
   "file_extension": ".py",
   "mimetype": "text/x-python",
   "name": "python",
   "nbconvert_exporter": "python",
   "pygments_lexer": "ipython3",
   "version": "3.9.0"
  }
 },
 "nbformat": 4,
 "nbformat_minor": 2
}
